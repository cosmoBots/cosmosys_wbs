{
 "cells": [
  {
   "cell_type": "markdown",
   "metadata": {},
   "source": [
    "Importamos las librerías que necesitamos, incluimos el fichero de configuración de la conexión con Redmine"
   ]
  },
  {
   "cell_type": "code",
   "execution_count": null,
   "metadata": {},
   "outputs": [],
   "source": [
    "import sys\n",
    "from collections import OrderedDict\n",
    "from pyexcel_ods import get_data\n",
    "from config_rm import *\n",
    "from redminelib import Redmine"
   ]
  },
  {
   "cell_type": "markdown",
   "metadata": {},
   "source": [
    "Ahora procedemos a cargar la hoja de datos en una estructura data, sólo la pestaña correspondiente"
   ]
  },
  {
   "cell_type": "code",
   "execution_count": null,
   "metadata": {},
   "outputs": [],
   "source": [
    "file_path = \"input_wbs.ods\"\n",
    "data = get_data(file_path)['Export2Redmine']\n",
    "print(\"file loaded\")"
   ]
  },
  {
   "cell_type": "markdown",
   "metadata": {},
   "source": [
    "Configuramos la carga, definiendo prefijos o números de fila o columna donde se encuentran los datos"
   ]
  },
  {
   "cell_type": "code",
   "execution_count": null,
   "metadata": {},
   "outputs": [],
   "source": [
    "cfg_prefix = \"w\"\n",
    "cfg_name_prefix = \"WP\"\n",
    "cfg_tgt_prefix = \"T\"\n",
    "cfg_first_valid_row = 3\n",
    "cfg_import_column = 0\n",
    "cfg_level_column = 4\n",
    "cfg_ident_column = 1\n",
    "cfg_name_column = 17\n",
    "cfg_parent_column = 14\n",
    "cfg_description_column = 18\n",
    "cfg_assignee_column = 19\n",
    "cfg_prefix_column = 20\n",
    "cfg_input_column = 28\n",
    "\n",
    "cfg_use_prjprefix_as_ident = True"
   ]
  },
  {
   "cell_type": "markdown",
   "metadata": {},
   "source": [
    "Definimos cómo una fila tipo Target (Entregable \"output\") se carga en la estructura de datos \"projects\".\n",
    "El entregable se definirá dentro del proyecto que llega en la columna \"parent\"."
   ]
  },
  {
   "cell_type": "code",
   "execution_count": null,
   "metadata": {},
   "outputs": [],
   "source": [
    "def processTgt(row, projects):\n",
    "    level = int(row[cfg_level_column])\n",
    "    thisTgt = {}\n",
    "    print(\"tgt:\",row[cfg_ident_column])\n",
    "    thisTgt['level'] = level\n",
    "    # La descripción será la concatenación entre el nombre y la columna descripción (si existe), con unos retornos de carro por en medio\n",
    "    thisTgt['description'] = row[cfg_name_column]\n",
    "    if (len(row) > cfg_description_column):\n",
    "        if (len(row[cfg_description_column])>0):        \n",
    "            thisTgt['description'] += \"\\n\\n\" + row[cfg_description_column]\n",
    "    \n",
    "    if (len(row[cfg_parent_column])>0):\n",
    "        # Si tiene proyecto padre definido, lo enlazamos, y generamos el identificador del target a partir del identificador del padre, según un número de orden que lo otorga la fila\n",
    "        thisTgt['parent'] = row[cfg_parent_column]\n",
    "        idx = projects[row[cfg_parent_column]]['tgtnum'] + 1\n",
    "        thisTgt['ident'] = projects[row[cfg_parent_column]]['prefix'] + \".\"+cfg_tgt_prefix+\"{:02d}\".format(idx)\n",
    "        projects[row[cfg_parent_column]]['tgtnum'] = idx\n",
    "        projects[row[cfg_parent_column]]['targets'][row[cfg_ident_column]] = thisTgt\n",
    "\n",
    "    else:\n",
    "        # Si no tiene padre definido, se le asigna el proyecto raíz como padre\n",
    "        thisTgt['parent'] = None\n",
    "        idx = projects['root']['tgtnum'] + 1\n",
    "        thisTgt['ident'] = cfg_tgt_prefix + \"{:02d}\".format(idx)\n",
    "        projects['root']['tgtnum'] = idx\n",
    "        projects['root']['targets'][row[cfg_ident_column]] = thisTgt\n",
    "    \n",
    "    # Devolvemos el nodo recién creado\n",
    "    return thisTgt    "
   ]
  },
  {
   "cell_type": "markdown",
   "metadata": {},
   "source": [
    "Definimos cómo una fila tipo Proyecto se carga en la estructura de datos \"projects\". El entregable se definirá dentro del proyecto que llega en la columna \"parent\"."
   ]
  },
  {
   "cell_type": "code",
   "execution_count": null,
   "metadata": {},
   "outputs": [],
   "source": [
    "def processPrj(row, projects):\n",
    "    level = int(row[cfg_level_column])\n",
    "    thisPrj = {}\n",
    "    print(\"prj:\",row[1])\n",
    "    thisPrj['level'] = level\n",
    "    thisPrj['description'] = row[cfg_name_column]\n",
    "    thisPrj['childnum'] = 0\n",
    "    thisPrj['tgtnum'] = 0\n",
    "    thisPrj['targets'] = {}\n",
    "    # La descripción será la concatenación entre el nombre y la columna descripción (si existe), con unos retornos de carro por en medio\n",
    "    if (len(row) > cfg_description_column):\n",
    "        if (len(row[cfg_description_column])>0):\n",
    "            thisPrj['description'] += \"\\n\\n\" + row[cfg_description_column]\n",
    "    \n",
    "    if (len(row[cfg_parent_column])>0):\n",
    "        # Si tiene proyecto padre definido, lo enlazamos, y generamos el identificador del target a partir del identificador del padre, según un número de orden que lo otorga la fila\n",
    "        thisPrj['parent'] = row[cfg_parent_column]\n",
    "        idx = projects[row[cfg_parent_column]]['childnum'] + 1\n",
    "        projects[row[cfg_parent_column]]['childnum'] = idx\n",
    "        thisPrj['name'] = projects[row[cfg_parent_column]]['name'] + \".{:02d}\".format(idx)\n",
    "        thisPrj['ident'] = projects[row[cfg_parent_column]]['ident'] + \"-{:02d}\".format(idx)\n",
    "\n",
    "    else:\n",
    "        # Si no tiene padre definido, se le asigna el proyecto raíz como padre\n",
    "        thisPrj['parent'] = None\n",
    "        idx = projects['root']['childnum'] + 1\n",
    "        projects['root']['childnum'] = idx\n",
    "        thisPrj['name'] = cfg_name_prefix + \"{:02d}\".format(idx)\n",
    "        thisPrj['ident'] = cfg_prefix + \"{:02d}\".format(idx)\n",
    "    \n",
    "    # Si tiene un responsable, lo asignamos al proyecto\n",
    "    if (len(row) > cfg_assignee_column):\n",
    "        if (len(row[cfg_assignee_column])>0):\n",
    "            thisPrj['assignee'] = row[cfg_assignee_column]\n",
    "\n",
    "    # Si existe un prefijo definida, lo cargamos en la estructura\n",
    "    if (len(row) > cfg_prefix_column):\n",
    "        if (len(row[cfg_prefix_column])>0):\n",
    "            thisPrj['prefix'] = row[cfg_prefix_column]\n",
    "            # Si tenemos habilitada la configuración de usar el prefijo definido como identificador del proyecto\n",
    "            # sobreescribimos el identificador de proyecto a partir del prefijo definido\n",
    "            if (cfg_use_prjprefix_as_ident):\n",
    "                thisPrj['ident'] = cfg_prefix + thisPrj['prefix']\n",
    "        \n",
    "    # Devolvemos el nodo recién creado\n",
    "    return thisPrj"
   ]
  },
  {
   "cell_type": "markdown",
   "metadata": {},
   "source": [
    "Definimos el proceso de carga de cada fila, donde se discrimina si la fila corresponde a un proyecto o un target, y redirigimos a los tratamientos correspondientes arriba definidos"
   ]
  },
  {
   "cell_type": "code",
   "execution_count": null,
   "metadata": {},
   "outputs": [],
   "source": [
    "def process_row(row, projects):\n",
    "    level = int(row[cfg_level_column])\n",
    "    if (level > 0):\n",
    "        lastPrj = processPrj(row,projects)\n",
    "        projects[row[cfg_ident_column]] = lastPrj\n",
    "        print(\"-->\",lastPrj['ident'])\n",
    "    else:\n",
    "        lastTgt = processTgt(row, projects)\n",
    "        targets[row[cfg_ident_column]] = lastTgt\n",
    "        print(\"-->\",lastTgt['ident'])\n"
   ]
  },
  {
   "cell_type": "markdown",
   "metadata": {},
   "source": [
    "Comenzamos la carga de la hoja de datos, consumiendo las filas de la estructura de datos, y llamando al procesado de la fila definido más arriba."
   ]
  },
  {
   "cell_type": "code",
   "execution_count": null,
   "metadata": {},
   "outputs": [],
   "source": [
    "# Creamos la estructura de proyectos, y creamos un proyecto raíz para contener los proyectos o targets que tienen padre\n",
    "i = 0\n",
    "projects = {}\n",
    "projects['root'] = {}\n",
    "projects['root']['childnum'] = 0\n",
    "projects['root']['tgtnum'] = 0\n",
    "projects['root']['targets'] = {}\n",
    "targets = {}\n",
    "\n",
    "# Comenzamos la carga\n",
    "for row in data:\n",
    "    # Let's skip the first row\n",
    "    if (i >= cfg_first_valid_row):\n",
    "        if (len(row) > cfg_import_column):\n",
    "            if (row[cfg_import_column]>0):\n",
    "                #print(\"processing row\",i)\n",
    "                process_row(row,projects)\n",
    "\n",
    "    i += 1\n"
   ]
  },
  {
   "cell_type": "markdown",
   "metadata": {},
   "source": [
    "Añadimos una función que hace \"pretty printing\" de diccionarios, para poder explorar los contenidos de los datos en las trazas"
   ]
  },
  {
   "cell_type": "code",
   "execution_count": null,
   "metadata": {},
   "outputs": [],
   "source": [
    "def pretty(d, indent=0):\n",
    "   for key, value in d.items():\n",
    "      print('\\t' * indent + str(key))\n",
    "      if isinstance(value, dict):\n",
    "         pretty(value, indent+1)\n",
    "      else:\n",
    "         print('\\t' * (indent+1) + str(value))\n",
    "            \n"
   ]
  },
  {
   "cell_type": "markdown",
   "metadata": {},
   "source": [
    "Añadimos algunas trazas para analizar la estructura de datos cargada"
   ]
  },
  {
   "cell_type": "code",
   "execution_count": null,
   "metadata": {},
   "outputs": [],
   "source": [
    "# pretty(projects)\n",
    "# pretty(targets)"
   ]
  },
  {
   "cell_type": "code",
   "execution_count": null,
   "metadata": {},
   "outputs": [],
   "source": [
    "# print(targets.keys())\n",
    "# print(projects.keys())"
   ]
  },
  {
   "cell_type": "markdown",
   "metadata": {},
   "source": [
    "Nos conectamos al Redmine y listamos sus proyectos.\n",
    "Seleccionaremos el proyecto raíz a partir del que se ha configurado en el fichero de configuración de la conexión con Redmine"
   ]
  },
  {
   "cell_type": "code",
   "execution_count": null,
   "metadata": {},
   "outputs": [],
   "source": [
    "redmine = Redmine(rm_server_url,key=rm_key_txt)\n",
    "rmprojects = redmine.project.all()\n",
    "\n",
    "\n",
    "# Durante la carga, vamos a mantener un diccionario con los proyectos de Redmine usando el identificador como llave\n",
    "# este diccionario me permitirá saber de antemano qué proyectos están ya en el Redmine\n",
    "rmprojectsbyident = {}\n",
    "print(\"Proyectos:\")\n",
    "for p in rmprojects:\n",
    "    print (\"\\t\",p.identifier,\" \\t| \",p.name)\n",
    "    rmprojectsbyident[p.identifier] = p\n",
    "\n",
    "root_rmproject = redmine.project.get(rm_project_id_str)\n",
    "print (\"Obtenemos proyecto raíz: \",root_rmproject.identifier,\" | \",root_rmproject.name)"
   ]
  },
  {
   "cell_type": "markdown",
   "metadata": {},
   "source": [
    "Empezamos a crear los proyectos que no existan ya en el Redmine, o a modificar los existentes, según la información que hemos cargado de la hoja de datos.\n",
    "También creamos los enlaces entre proyectos padres e hijos.\n",
    "También crearemos los targets que no existan, o modificaremos los preexistentes.\n",
    "ATENCIÓN: En ningún caso borramos proyectos o targets preexistentes.  Es importante vigilar que no queden restos de ejecuciones anteriores, ya que el programa no lo hace para evitar destrucción de datos en caso de error.\n",
    "Mientras se está validando la carga, y la hoja de datos esté abierta a cambios, pueden quedar restos. Se recomienda, una vez finalizado el proceso, borrar todos los proyectos generados (borrando el proyecto raíz), y hacer una última ejecución limpia en el servidor de pruebas, y analizarla, antes de proceder a ejecutar la carga definitiva en el servidor de producción."
   ]
  },
  {
   "cell_type": "code",
   "execution_count": null,
   "metadata": {},
   "outputs": [],
   "source": [
    "# Recorremos los proyectos\n",
    "for k in projects.keys():\n",
    "    # Vamos a evitar el proyecto raíz\n",
    "    if (k != 'root'):\n",
    "        # Tomamos la información del proyecto en curso\n",
    "        thisproject = projects[k]\n",
    "        prident = thisproject['ident']\n",
    "        print(\"Cargaremos el proyecto:\",k,prident)\n",
    "        rmprj = None\n",
    "        if (prident in rmprojectsbyident.keys()):\n",
    "            # Está en la lista de proyectos preexistentes, \n",
    "            # cargo sus datos del Redmine y los asocio a la estructura de datos\n",
    "            rmprj = redmine.project.get(prident)\n",
    "            if (rmprj is not None):\n",
    "                projects[k]['rmprj'] = rmprj\n",
    "        \n",
    "        # Miro si el proyecto tiene padre o no\n",
    "        if (thisproject['parent'] is None):\n",
    "            # En caso de que no lo tenga, le asigno como padre el proyecto raíz\n",
    "            rmprojectid = root_rmproject.id\n",
    "            \n",
    "        else:\n",
    "            # En caso de que se haya definido un proyecto padre, lo asigno buscándolo en la estructura\n",
    "            # por la forma de la hoja de datos, los proyectos padre siempre se cargan antes que los hijos,\n",
    "            # por lo que tenemos garantía de éxito en la búsqueda.\n",
    "            rmprojectid = projects[thisproject['parent']]['rmid']\n",
    "        \n",
    "        print(\"ID del proyecto padre: \",rmprojectid,thisproject['ident'])\n",
    "        \n",
    "        # Nos toca crear o modificar el proyecto de Redmine\n",
    "        if rmprj is None:\n",
    "            # El proyecto de Redmine no estaba en la lista de proyectos preexistentes\n",
    "            # Esto significa que debe ser creado\n",
    "            rmprj = redmine.project.create(\n",
    "                    name=thisproject['name'],\n",
    "                    identifier=thisproject['ident'],\n",
    "                    description=thisproject['description'][:250],\n",
    "                    is_public=True,\n",
    "                    parent_id=rmprojectid,\n",
    "                    inherit_members=True\n",
    "            )\n",
    "            \n",
    "        else:\n",
    "            # El proyecto ya existía en la lista de proyectos.\n",
    "            # Debemos actualizarlo\n",
    "            redmine.project.update(\n",
    "                    rmprj.id,\n",
    "                    name=thisproject['name'],\n",
    "                    identifier=thisproject['ident'],\n",
    "                    description=thisproject['description'][:250],\n",
    "                    is_public=True,\n",
    "                    parent_id=rmprojectid,\n",
    "                    inherit_members=True\n",
    "            )\n",
    "        # Enlazamos el proyecto de Redmine con la estructura de datos del proyecto\n",
    "        # Para que más tarde podamos llegar a él sin necesidad de búsquedas\n",
    "        thisproject['rmid'] = rmprj.id\n",
    "        thisproject['rmprj'] = rmprj\n",
    "\n",
    "        # Ahora vamos a crear o modificar los \"targets\" del proyecto recién tratado\n",
    "        for kt in thisproject['targets']:\n",
    "            thistgt = targets[kt]\n",
    "            tgtident = thistgt['ident']\n",
    "            print(\"Vamos a procesar el target\",kt,tgtident)\n",
    "            tgtname = thistgt['ident'] + \" \" + thistgt['description'][:25]\n",
    "        \n",
    "            # Buscamos entre los targets del proyecto a ver si ya existe el target\n",
    "            # que debemos procesar\n",
    "            rmtgt = None\n",
    "            for v in rmprj.versions:\n",
    "                if v.name == tgtname:\n",
    "                    # El target ya existe, no habrá que crearlo\n",
    "                    rmtgt = v\n",
    "\n",
    "            # Ahora procederemos a crear o modificar el target\n",
    "            if rmtgt is None:\n",
    "                print(\"Creamos el target\")\n",
    "                rmtgt = redmine.version.create(\n",
    "                     project_id=rmprj.id,\n",
    "                     name=tgtname,\n",
    "                     description=thistgt['description'][:250]\n",
    "                )            \n",
    "\n",
    "            else:\n",
    "                print(\"Modificamos el target\")\n",
    "                redmine.version.update(\n",
    "                    rmtgt.id,\n",
    "                    name=tgtname,\n",
    "                    description=thistgt['description'][:250]\n",
    "                )\n",
    "\n",
    "            # En la estructura de datos del target recién creado enlazamos el objeto Redmine\n",
    "            # para poder acceder después a él sin necesidad de buscarlo en el Redmine\n",
    "            thistgt['rmtgt'] = rmtgt\n"
   ]
  },
  {
   "cell_type": "markdown",
   "metadata": {},
   "source": [
    "A la hora de asignar responsables a las tareas o a los proyectos, necesitamos saber que los usuarios ya existen en el Redmine.\n",
    "Para ello construiremos un diccionario de usuarios preexistentes, usando su login como llave."
   ]
  },
  {
   "cell_type": "code",
   "execution_count": null,
   "metadata": {},
   "outputs": [],
   "source": [
    "rmusers = redmine.user.all()\n",
    "users = {}\n",
    "for u in rmusers:\n",
    "    #print(u.login)\n",
    "    users[u.login] = u\n",
    "    \n",
    "print(users)"
   ]
  },
  {
   "cell_type": "markdown",
   "metadata": {},
   "source": [
    "A la hora de asignar responsables a los proyectos, necesitamos saber que el rol de manager ya existe en el Redmine.\n",
    "Para ello obtendremos del Redmine el rol adecuado, para luego poderlo asignar al responsable."
   ]
  },
  {
   "cell_type": "code",
   "execution_count": null,
   "metadata": {},
   "outputs": [],
   "source": [
    "roles = redmine.role.all()\n",
    "for r in roles:\n",
    "    print(r.name)\n",
    "    if (r.name == 'RmMngr'):\n",
    "        mngrole = r"
   ]
  },
  {
   "cell_type": "markdown",
   "metadata": {},
   "source": [
    "A la hora de crear las tareas, necesitamos tener el tracker adecuado para ellas, de entre los existentes en el Redmine.\n",
    "El tracker adecuado para cada tipo de tarea lo almacenamos para usarlo después.\n",
    "NOTA: De momento usamos un tracker genérico, más adelante podría decidirse usar variables de configuración que permitan seleccionar un tracker diferente para cada tipo de tarea."
   ]
  },
  {
   "cell_type": "code",
   "execution_count": null,
   "metadata": {},
   "outputs": [],
   "source": [
    "trackers = redmine.tracker.all()\n",
    "for tr in trackers:\n",
    "    print(tr.name)\n",
    "    if (tr.name == 'wrk'):\n",
    "        ko_tracker = tr\n",
    "        dv_tracker = tr\n",
    "        cl_tracker = tr\n",
    "        "
   ]
  },
  {
   "cell_type": "markdown",
   "metadata": {},
   "source": [
    "A continuación, para cada proyecto, vamos a buscar su responsable del diccionario de usuarios obtenido del Redmine, y vamos a asignarle el rol de manager del proyecto"
   ]
  },
  {
   "cell_type": "code",
   "execution_count": null,
   "metadata": {},
   "outputs": [],
   "source": [
    "for k in projects.keys():\n",
    "    # Evitamos reconfigurar el proyecto raíz\n",
    "    if (k!='root'):\n",
    "        # Obtenemos el proyecto de Redmine a partir de la estructura\n",
    "        p = projects[k]\n",
    "        thispr = p['rmprj']\n",
    "        print(\"Asignamos usuario\",p['assignee'],\"a proyecto:\",k,p['ident'])\n",
    "        if p['assignee'] not in users.keys():\n",
    "            print(\"ERROR no existe el usuario\",p['assignee'],\"en el Redmine!!!\")\n",
    "            \n",
    "        else:\n",
    "            u = users[p['assignee']]\n",
    "            # Vamos a listar las membresías del equipo y ver si el usuario ya está en ellos con el rol adecuado\n",
    "            created = False\n",
    "            members = thispr.memberships\n",
    "            for m in members:\n",
    "                if (m.user.id == u.id):\n",
    "                    print(\"El usuario ya forma parte del proyecto\")\n",
    "                    created = True\n",
    "                    done = False\n",
    "                    thisroles = []\n",
    "                    for r in m.roles:\n",
    "                        thisroles += [r.id]\n",
    "                        if mngrole.id == r.id:\n",
    "                            print(\"El usuario ya tiene el rol correcto asignado, nada que hacer\")\n",
    "                            done = True\n",
    "                    \n",
    "                    if not done:\n",
    "                        print(\"El usuario está en el proyecto, pero no con el rol adecuado, modificamos su membresía para añadirlo\")\n",
    "                        thisroles += [mngrole.id]\n",
    "                        m2 = redmine.project_membership.get(m.id)\n",
    "                        redmine.project_membership.update(m.id, role_ids=[1, 2])\n",
    "            \n",
    "            if not created:\n",
    "                print(\"El usuario no formaba parte del proyecto, lo añadimos con el rol adecuado\")\n",
    "                redmine.project_membership.create(project_id=p['rmid'], user_id=users[p['assignee']].id, role_ids=[mngrole.id])\n"
   ]
  },
  {
   "cell_type": "markdown",
   "metadata": {},
   "source": [
    "A continuación, para cada target vamos a crear las tres tareas asociadas (kick-off, desarrollo y cierre), asignarles como asignado el responsable del proyecto, y las enlazaremos entre sí con relaciones de precedencia "
   ]
  },
  {
   "cell_type": "code",
   "execution_count": null,
   "metadata": {},
   "outputs": [],
   "source": [
    "for k in projects.keys():\n",
    "    # Evito tratar el proyecto raíz\n",
    "    if (k!='root'):\n",
    "        p = projects[k]['rmprj']\n",
    "        print(\"Crearemos las tareas ko, dev, cl para el proyecto \",p.identifier)\n",
    "        # En la estructura de datos del proyecto tendremos un diccionario con las tareas creadas, para luego poder llegar a ellas sin realizar búsquedas en Redmine\n",
    "        issues = {}\n",
    "        # El usuario asociado a las tareas es el responsable del proyecto\n",
    "        # NOTA: podría considerarse usar la columna de responsable del target, pero entonces habría que asegurar que el responsable del target\n",
    "        # está en el equipo de proyecto con un rol adecuado (developer?)\n",
    "        u = users[projects[k]['assignee']]\n",
    "        \n",
    "        # Antes de comenzar a crear tareas, vamos a añadir las preexistentes al diccionario de tareas del proyecto en la estructura de datos\n",
    "        for i in p.issues:\n",
    "            issues[i.subject] = i\n",
    "            print(\"--> Tarea preexistente\",i.subject)\n",
    "        \n",
    "        # Ahora comenzamos a recorrer los targets del proyecto, para los cuales queremos crear/modificar la terna de tareas\n",
    "        for thistgt in projects[k]['targets']:\n",
    "            t = targets[thistgt]['rmtgt']\n",
    "            print(\"Target -->\",k,t,p.identifier)\n",
    "            \n",
    "            # Creamos o modificamos la tarea de kickoff\n",
    "            ko_subject = \"Kick-off \" + t.name\n",
    "            ko_descr = \"Kick-Off meeting for deliverable named '\"+t.name+\"'\"\n",
    "            if ko_subject in issues.keys():\n",
    "                print(\"La tarea a crear ya existe entre las tareas del proyecto, la actualizo\")\n",
    "                ko_i = issues[ko_subject]\n",
    "                redmine.issue.update(\n",
    "                    ko_i.id,\n",
    "                    tracker_id=ko_tracker.id,\n",
    "                    description=ko_descr,\n",
    "                    fixed_version_id=t.id,\n",
    "                    assigned_to_id=u.id          \n",
    "                )\n",
    "            else:\n",
    "                print(\"La tarea a crear no existe entre las tareas del proyecto, la creo\")\n",
    "                ko_i = redmine.issue.create(\n",
    "                    project_id=p.id,\n",
    "                    subject=ko_subject,\n",
    "                    tracker_id=ko_tracker.id,\n",
    "                    description=ko_descr,\n",
    "                    fixed_version_id=t.id,\n",
    "                    assigned_to_id=u.id\n",
    "                )\n",
    "                # Añado la tarea al diccionario, para que ya conste\n",
    "                issues[ko_subject] = ko_i\n",
    "            \n",
    "            # Registro la tarea de kick-off en la estructura de datos del target, para poder llegar a ella sin realizar búsquedas\n",
    "            targets[thistgt]['ko_tsk'] = ko_i\n",
    "            \n",
    "            # Creamos o modificamos la tarea de desarrollo\n",
    "            ko_dv_rel_done = False\n",
    "            dv_subject = \"Development \" + t.name\n",
    "            dv_descr = \"Development for deliverable named '\"+t.name+\"'\"      \n",
    "            if dv_subject in issues.keys():\n",
    "                print(\"La tarea a crear ya existe entre las tareas del proyecto, la actualizo\")\n",
    "                dv_i = issues[dv_subject]\n",
    "                redmine.issue.update(\n",
    "                    dv_i.id,\n",
    "                    tracker_id=dv_tracker.id,\n",
    "                    description=dv_descr,\n",
    "                    fixed_version_id=t.id,\n",
    "                    assigned_to_id=u.id   \n",
    "                )\n",
    "                # Vamos a ver si la dependencia con la tarea de kick-off ya existe, para \n",
    "                # evitar crearla más tarde en tal caso\n",
    "                # NOTA: No estamos comprobando que exista con el mismo tipo de relación\n",
    "                for r in dv_i.relations:\n",
    "                    if r.issue_id == ko_i.id:\n",
    "                        ko_dv_rel_done = True\n",
    "            else:\n",
    "                print(\"La tarea a crear no existe entre las tareas del proyecto, la creo\")                \n",
    "                dv_i = redmine.issue.create(\n",
    "                    project_id=p.id,\n",
    "                    subject=dv_subject,\n",
    "                    tracker_id=dv_tracker.id,\n",
    "                    description=dv_descr,\n",
    "                    fixed_version_id=t.id,\n",
    "                    assigned_to_id=u.id\n",
    "                )\n",
    "                # Añado la tarea al diccionario, para que ya conste\n",
    "                issues[dv_subject] = dv_i\n",
    "            \n",
    "            # Registro la tarea de desarrollo en la estructura de datos del target, para poder llegar a ella sin realizar búsquedas\n",
    "            targets[thistgt]['dv_tsk'] = dv_i\n",
    "            \n",
    "            # Si no está ya creada, deberemos añadir la relación de dependencia entre esta tarea y la anterior\n",
    "            if not ko_dv_rel_done:\n",
    "                # Create the relation\n",
    "                ko_dv_rel = redmine.issue_relation.create(\n",
    "                    issue_id=ko_i.id,\n",
    "                    issue_to_id=dv_i.id,\n",
    "                    relation_type='precedes',\n",
    "                    delay=0\n",
    "                )\n",
    "\n",
    "            # Creamos o modificamos la tarea de cierre\n",
    "            dv_cl_rel_done = False            \n",
    "            cl_subject = \"Closure \" + t.name\n",
    "            cl_descr = \"Closure for deliverable named '\"+t.name+\"'\"                    \n",
    "            if cl_subject in issues.keys():\n",
    "                print(\"La tarea a crear ya existe entre las tareas del proyecto, la actualizo\")\n",
    "                cl_i = issues[cl_subject]\n",
    "                redmine.issue.update(\n",
    "                    cl_i.id,\n",
    "                    tracker_id=cl_tracker.id,\n",
    "                    description=cl_descr,\n",
    "                    fixed_version_id=t.id,\n",
    "                    assigned_to_id=u.id          \n",
    "                )\n",
    "                # Vamos a ver si la dependencia con la tarea de kick-off ya existe, para \n",
    "                # evitar crearla más tarde en tal caso\n",
    "                # NOTA: No estamos comprobando que exista con el mismo tipo de relación                \n",
    "                for r in cl_i.relations:\n",
    "                    print(dict(r))\n",
    "                    if r.issue_id == dv_i.id:\n",
    "                        dv_cl_rel_done = True                \n",
    "            else:\n",
    "                print(\"La tarea a crear no existe entre las tareas del proyecto, la creo\") \n",
    "                cl_i = redmine.issue.create(\n",
    "                    project_id=p.id,\n",
    "                    subject=cl_subject,\n",
    "                    tracker_id=cl_tracker.id,\n",
    "                    description=cl_descr,\n",
    "                    fixed_version_id=t.id,\n",
    "                    assigned_to_id=u.id\n",
    "                )\n",
    "                # Añado la tarea al diccionario, para que ya conste\n",
    "                issues[cl_subject] = cl_i\n",
    "                \n",
    "            # Registro la tarea de desarrollo en la estructura de datos del target, para poder llegar a ella sin realizar búsquedas\n",
    "            targets[thistgt]['cl_tsk'] = cl_i\n",
    "            \n",
    "            # Si no está ya creada, deberemos añadir la relación de dependencia entre esta tarea y la anterior\n",
    "            if not dv_cl_rel_done:\n",
    "                # Create the relation\n",
    "                dv_cl_rel = redmine.issue_relation.create(\n",
    "                    issue_id=dv_i.id,\n",
    "                    issue_to_id=cl_i.id,\n",
    "                    relation_type='precedes',\n",
    "                    delay=0\n",
    "                )"
   ]
  },
  {
   "cell_type": "markdown",
   "metadata": {},
   "source": [
    "After loading all the projects and targets, and creating all the issues, we must re-explore the input file to extract the relationships between the targets.\n",
    "Definimos la función que procesará cada fila de la hoja de datos."
   ]
  },
  {
   "cell_type": "code",
   "execution_count": null,
   "metadata": {},
   "outputs": [],
   "source": [
    "# Esta función trata una fila buscando inputs.  También va manteniendo el puntero lastPrj para que, cuando se encuentre un \"input\" sepamos a qué \n",
    "# proyecto pertenece\n",
    "def process_row_inputs(row, lastPrj, projects):\n",
    "    done = False\n",
    "    # La columna \"import\" puede ser False para un \"input\", pero para una fila que define un proyecto siempre ha de ser \"true\"\n",
    "    if (len(row) > cfg_import_column):\n",
    "        print(row[cfg_import_column])\n",
    "        if (row[cfg_import_column]>0):\n",
    "            # La columna de importación es True, ¿es un proyecto o un input?\n",
    "            level = int(row[cfg_level_column])\n",
    "            if (level > 0):\n",
    "                # El nivel es mayor que cero, así que es una fila que define un proyecto, lo guardaremos en el puntero lastPrj\n",
    "                lastPrj = projects[row[cfg_ident_column]]\n",
    "                print(\"prj -->\",lastPrj['ident'])\n",
    "                # Marcamos el proceso como finalizado, para que no se busque un input en esta fila\n",
    "                done = True\n",
    "\n",
    "    if not(done):\n",
    "        # La fila no correspondía a un proyecto, por lo que podemos buscar si hay un \"input\" definido en ella\n",
    "        if (len(row) > cfg_input_column):\n",
    "            if (len(row[cfg_input_column])>0):\n",
    "                # La fila actual define un \"input\", obtenemos la información necesaria para poder enlazar este input con los targets del proyecto actual que apunta lastPrj.\n",
    "                print(\"El input \",row[cfg_input_column],\"(\",targets[row[cfg_input_column]]['ident'],targets[row[cfg_input_column]]['rmtgt'],\") ha de bloquear los targets del proyecto \",lastPrj['ident'],lastPrj['rmid'])\n",
    "                inputko = targets[row[cfg_input_column]]['ko_tsk']\n",
    "                inputdv = targets[row[cfg_input_column]]['dv_tsk']\n",
    "                inputcl = targets[row[cfg_input_column]]['cl_tsk']\n",
    "                print(\"++ Estas son las tareas del input ko:\",inputko.id,\"dv:\",inputdv.id,\"cl:\",inputcl.id)\n",
    "\n",
    "                # Ahora recorreremos los targets de lastPrj, para obtener sus tareas, y así poder crear las dependencias R1 y R2\n",
    "                for t in lastPrj['targets']:\n",
    "                    print(\"-- Proceso el target \\\\\",targets[t])\n",
    "                    # Obtenemos las tareas del target \"output\"\n",
    "                    outputko = targets[t]['ko_tsk']\n",
    "                    outputdv = targets[t]['dv_tsk']\n",
    "                    outputcl = targets[t]['cl_tsk']\n",
    "                    print(\"** Las tareas de este output son ko:\",outputko.id,\"dv:\",outputdv.id,\"cl:\",outputcl.id)\n",
    "                    # We have to find or create the relationships R1 block-block from inputdv to outputdv\n",
    "                    r1_rel_done = False\n",
    "                    for r in outputdv.relations:\n",
    "                        if r.issue_id == inputdv.id:\n",
    "                            r1_rel_done = True\n",
    "                            print(\"La relación R1 entre este input y este output ya existía\")\n",
    "\n",
    "                    if not r1_rel_done:\n",
    "                        # Create the relation\n",
    "                        rq_rel = redmine.issue_relation.create(\n",
    "                            issue_id=inputdv.id,\n",
    "                            issue_to_id=outputdv.id,\n",
    "                            relation_type='blocks'\n",
    "                        )\n",
    "                        print(\"La relación R1 entre este input y este output acaba de crearse\")\n",
    "\n",
    "\n",
    "                    # We have to find or create the relationships R2 block block from inputcl to outputcl\n",
    "                    r2_rel_done = False              \n",
    "                    for r in outputcl.relations:\n",
    "                        if r.issue_id == inputcl.id:\n",
    "                            r2_rel_done = True\n",
    "                            print(\"La relación R2 entre este input y este output ya existía\")\n",
    "\n",
    "                    if not r2_rel_done:\n",
    "                        # Create the relation\n",
    "                        rq_rel = redmine.issue_relation.create(\n",
    "                            issue_id=inputcl.id,\n",
    "                            issue_to_id=outputcl.id,\n",
    "                            relation_type='blocks'\n",
    "                        )                  \n",
    "                        print(\"La relación R1 entre este input y este output acaba de crearse\")\n",
    "        \n",
    "    return lastPrj"
   ]
  },
  {
   "cell_type": "markdown",
   "metadata": {},
   "source": [
    "Lanzamos el proceso que toma la hoja de datos y lanza el proceso de tratamiento de los inputs definido con anterioridad"
   ]
  },
  {
   "cell_type": "code",
   "execution_count": null,
   "metadata": {},
   "outputs": [],
   "source": [
    "i = 0\n",
    "for row in data:\n",
    "    # Let's skip the first row\n",
    "    if (i >= cfg_first_valid_row):\n",
    "        print(\"processing row\",i)\n",
    "        lastPrj = process_row_inputs(row,lastPrj,projects)\n",
    "    \n",
    "    i = i + 1 "
   ]
  },
  {
   "cell_type": "code",
   "execution_count": null,
   "metadata": {},
   "outputs": [],
   "source": []
  },
  {
   "cell_type": "markdown",
   "metadata": {},
   "source": [
    "Escribimos \"done\" para indicar que el proceso acabó con éxito."
   ]
  },
  {
   "cell_type": "code",
   "execution_count": null,
   "metadata": {},
   "outputs": [],
   "source": [
    "print(\"done\")"
   ]
  },
  {
   "cell_type": "code",
   "execution_count": null,
   "metadata": {},
   "outputs": [],
   "source": []
  },
  {
   "cell_type": "code",
   "execution_count": null,
   "metadata": {},
   "outputs": [],
   "source": []
  }
 ],
 "metadata": {
  "kernelspec": {
   "display_name": "Python 3",
   "language": "python",
   "name": "python3"
  },
  "language_info": {
   "codemirror_mode": {
    "name": "ipython",
    "version": 3
   },
   "file_extension": ".py",
   "mimetype": "text/x-python",
   "name": "python",
   "nbconvert_exporter": "python",
   "pygments_lexer": "ipython3",
   "version": "3.7.6"
  }
 },
 "nbformat": 4,
 "nbformat_minor": 4
}
